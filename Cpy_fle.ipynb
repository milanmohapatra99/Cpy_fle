{
 "cells": [
  {
   "cell_type": "markdown",
   "id": "5815ae33",
   "metadata": {},
   "source": [
    "Q. w.a.p to make a copy of a text file \"this.txt\"."
   ]
  },
  {
   "cell_type": "code",
   "execution_count": 1,
   "id": "8acbda5b",
   "metadata": {},
   "outputs": [],
   "source": [
    "with open(\"this.txt\")as f:\n",
    "    content = f.read()\n",
    "with open(\"copy.txt\",'w') as f:\n",
    "    f.write(content)"
   ]
  },
  {
   "cell_type": "code",
   "execution_count": null,
   "id": "437bbb9c",
   "metadata": {},
   "outputs": [],
   "source": []
  }
 ],
 "metadata": {
  "kernelspec": {
   "display_name": "Python 3 (ipykernel)",
   "language": "python",
   "name": "python3"
  },
  "language_info": {
   "codemirror_mode": {
    "name": "ipython",
    "version": 3
   },
   "file_extension": ".py",
   "mimetype": "text/x-python",
   "name": "python",
   "nbconvert_exporter": "python",
   "pygments_lexer": "ipython3",
   "version": "3.9.7"
  }
 },
 "nbformat": 4,
 "nbformat_minor": 5
}
